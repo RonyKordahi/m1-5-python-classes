{
 "cells": [
  {
   "cell_type": "markdown",
   "metadata": {
    "colab_type": "text",
    "id": "NRgJX0AHXweG"
   },
   "source": [
    "# Exercises\n",
    "\n",
    "## 1. Warmup: Triangle class\n",
    "\n",
    "Create a class called `Triangle`. \n",
    "\n",
    "* The `__init__()` method should take self, angle1, angle2, and angle3 as arguments. Make sure to set these appropriately in the body of the __init__()method.\n",
    "\n",
    "* Create a **class variable** variable named number_of_sides and set it equal to 3.\n",
    "\n",
    "* Create a method named `check_angles` calculating True if the sum of a triangle's three angles is is equal 180, and False otherwise.\n",
    "\n",
    "* Create a variable named `my_triangle` and set it equal to a new instance of your `Triangle` class. Pass it three angles that sum to 180 (e.g. 90, 30, 60).\n",
    "Print out `my_triangle.number_of_sides` and print out `my_triangle.check_angles()`.\n",
    "\n",
    "```python\n",
    "t1 = Triangle(60, 60, 60)\n",
    "t1.check_angles() --> True\n",
    "\n",
    "t2 = Triangle(70, 60, 60)\n",
    "t2.check_angles() --> False\n",
    "```"
   ]
  },
  {
   "cell_type": "code",
   "execution_count": 2,
   "metadata": {},
   "outputs": [],
   "source": [
    "class Triangle():\n",
    "    \n",
    "    number_of_sides = 3\n",
    "    \n",
    "    def __init__(self, angle1, angle2, angle3):\n",
    "        self.angle1 = angle1\n",
    "        self.angle2 = angle2\n",
    "        self.angle3 = angle3\n",
    "        \n",
    "    def check_angles(self):\n",
    "        return (self.angle1 + self.angle2 + self.angle3 == 180)"
   ]
  },
  {
   "cell_type": "code",
   "execution_count": 3,
   "metadata": {},
   "outputs": [
    {
     "name": "stdout",
     "output_type": "stream",
     "text": [
      "3\n",
      "True\n"
     ]
    }
   ],
   "source": [
    "my_triangle = Triangle(90, 30, 60)\n",
    "\n",
    "print(my_triangle.number_of_sides)\n",
    "print(my_triangle.check_angles())"
   ]
  },
  {
   "cell_type": "markdown",
   "metadata": {
    "colab_type": "text",
    "id": "VYTlzrmJguZS"
   },
   "source": [
    "## 2.Making Natural Numbers from sets\n",
    "One way to make the natural numbers from the cardinality operation ($|A|$ or `len(A)` in python). \n",
    "\n",
    "Define $A = \\{all\\ possible\\ sets\\}$ That is, $A$ is the set of all sets. \n",
    "\n",
    "Then, the set $\\mathbb{N} = \\{ x : |x| \\forall x \\in A\\}$. \n",
    "\n",
    "Take some time to parse out the math above. $\\mathbb{N}$ is the set of natural numbers. The upside down \"A\" symbol means \"for all\" -- this is another structure that translates to a python for loop:\n",
    "\n",
    "\n",
    "```natural_numbers = {len(x) for x in A}```\n",
    "\n",
    "**Exercise:** Make a `SetNumber` class subclassing python's `set` to generate the natural numbers. It should have:\n",
    "\n",
    "* Addition (`__add__`) and substraction (`__sub__`) defined on other python `sets` objects.\n",
    "\n",
    "* A method called `value(self)` which gets the current numeric value of the `SetNumber` (eg. the number of object in it's set)\n",
    "\n",
    "Example:\n",
    "```python\n",
    "sn = SetNumber({1,2,3})\n",
    "sn.value() --> 3\n",
    "\n",
    "sn + {2,3,4} = a SetNumber with value 4\n",
    "sn + {1,2,3} = a SetNumber with value 3\n",
    "sn + {4,5,6} = a SetNumber with value 6\n",
    "\n",
    "sn - {4,5,6} = a SetNumber with value 3\n",
    "sn - {1,2,3} = a SetNumber with value 0\n",
    "```"
   ]
  },
  {
   "cell_type": "code",
   "execution_count": 1,
   "metadata": {},
   "outputs": [],
   "source": [
    "# Got help from Javad to understand the meaning of the question\n",
    "\n",
    "class SetNumber(set):\n",
    "    \n",
    "    def __init__(self, obj):\n",
    "        self.obj = obj\n",
    "    \n",
    "    # originally was not doing __add__, Javad helped me here\n",
    "    def __add__(self, x):\n",
    "        return len(self.obj.union(x))\n",
    "    \n",
    "    # originally was not doing __sub__, Javad helped me here\n",
    "    def __sub__(self, x):\n",
    "        return len(self.obj.difference(x))\n",
    "    \n",
    "    def value(self):\n",
    "        return len(self.obj)"
   ]
  },
  {
   "cell_type": "code",
   "execution_count": 216,
   "metadata": {},
   "outputs": [
    {
     "name": "stdout",
     "output_type": "stream",
     "text": [
      "3\n",
      "\n",
      "4\n",
      "3\n",
      "6\n",
      "\n",
      "3\n",
      "0\n"
     ]
    }
   ],
   "source": [
    "sn = SetNumber({1,2,3})\n",
    "print(sn.value(), end=\"\\n\\n\")\n",
    "\n",
    "print(sn + {2,3,4})\n",
    "print(sn + {1,2,3})\n",
    "print(sn + {4,5,6}, end=\"\\n\\n\")\n",
    "\n",
    "print(sn - {4,5,6})\n",
    "print(sn - {1,2,3})"
   ]
  },
  {
   "cell_type": "markdown",
   "metadata": {},
   "source": [
    "# 2d Point Class\n",
    "\n",
    "Write the definition of a Point class. Objects from this class should have a\n",
    "\n",
    "- a method `show()` to display the coordinates of the point\n",
    "- a method `move(x,y)` to shift these coordinates\n",
    "- a method `dist(point)` that computes the distance between 2 points.\n",
    "\n",
    "### Note\n",
    "\n",
    "the **euclidean distance** between 2 points A(x0, y0) and B(x1, y1) can be computed by:\n",
    "  \n",
    "  $$ d(AB)=\\sqrt{(x_1−x_0)^2+(y_1−y_0)^2} $$\n",
    "\n",
    "The following python code provides an example of the expected behaviour of objects belonging to this class:\n",
    "\n",
    "```\n",
    ">>> p1 = Point(2, 3)\n",
    ">>> p2 = Point(3, 3)\n",
    ">>> p1.show()\n",
    "(2, 3)\n",
    ">>> p2.show()\n",
    "(3, 3)\n",
    ">>> p1.move(10, -10)\n",
    ">>> p1.show()\n",
    "(12, -7)\n",
    ">>> p2.show()\n",
    "(3, 3)\n",
    ">>> p1.dist(p2)\n",
    "1.0\n",
    "```\n"
   ]
  },
  {
   "cell_type": "code",
   "execution_count": 9,
   "metadata": {},
   "outputs": [],
   "source": [
    "class Point():\n",
    "    \n",
    "    def __init__(self, x, y):\n",
    "        self.x0 = x\n",
    "        self.x1 = x\n",
    "        self.y0 = y\n",
    "        self.y1 = y\n",
    "        \n",
    "    def show(self):\n",
    "        return(f\"({self.x1}, {self.y1})\")\n",
    "        \n",
    "    def move(self, x, y):\n",
    "        self.x1 = self.x1 + x\n",
    "        self.y1 = self.y1 + y\n",
    "    \n",
    "    def dist(self):\n",
    "        return(f\"The distance between A({self.x0}, {self.y0}) and B({self.x1}, {self.y1}) is {((self.x1 - self.x0) ** 2 + (self.y1 - self.y0) ** 2) ** 0.5}\")"
   ]
  },
  {
   "cell_type": "code",
   "execution_count": 13,
   "metadata": {},
   "outputs": [
    {
     "name": "stdout",
     "output_type": "stream",
     "text": [
      "(2, 3)\n",
      "None\n",
      "(12, -7)\n",
      "The distance between A(2, 3) and B(12, -7) is 14.142135623730951\n"
     ]
    }
   ],
   "source": [
    "p1 = Point(2, 3)\n",
    "p2 = Point(3, 3)\n",
    "print(p1.show())\n",
    "print(p1.move(10, -10))\n",
    "print(p1.show())\n",
    "print(p1.dist())"
   ]
  },
  {
   "cell_type": "markdown",
   "metadata": {},
   "source": [
    "# Rational Number\n",
    "\n",
    "Make a class that represents a [Rational Number](https://en.wikipedia.org/wiki/Rational_number). The rational number takes as input two integers and represents them as a number which is a fraction.\n",
    "\n",
    "You will need:\n",
    "\n",
    "- A creation rountine taking in two integers and initializing the Rational Number\n",
    "\n",
    "- A functionality where printing the rational number prints it as a clean string in the format `\"a / b\"`\n",
    "\n",
    "- An addition/substraction/multiplication/division method defined on other rational numbers\n",
    "\n",
    "    - These only need to be defined on other rational numbers!\n",
    "\n",
    "    - The result needs to be another `RationalNumber` object\n",
    "\n",
    "```\n",
    ">>> a = RationalNumber(1, 2)\n",
    ">>> b = RationalNumber(1, 3)\n",
    ">>> a\n",
    "1 / 2\n",
    ">>> a + b\n",
    "5/6\n",
    ">>> a - b\n",
    "1/6\n",
    ">>> a * b\n",
    "1/6\n",
    ">>> a/b\n",
    "3/2\n",
    "```"
   ]
  },
  {
   "cell_type": "code",
   "execution_count": 2,
   "metadata": {},
   "outputs": [],
   "source": [
    "from fractions import Fraction\n",
    "\n",
    "class RationalNumber():\n",
    "    \n",
    "    # originally was not setting default values to None, Javad helped me here\n",
    "    def __init__(self, x = None, y = None):\n",
    "        self.x = x\n",
    "        self.y = y\n",
    "    \n",
    "    def __repr__(self):\n",
    "        return(f\"{self.x} / {self.y}\")\n",
    "    \n",
    "    def add(self, a, b):\n",
    "        return(print(Fraction(a.x, a.y) + Fraction(b.x, b.y)))\n",
    "    \n",
    "    def sub(self, a, b):\n",
    "        return(print(Fraction(a.x, a.y) - Fraction(b.x, b.y)))\n",
    "    \n",
    "    def mul(self, a, b):\n",
    "        return(print(Fraction(a.x, a.y) * Fraction(b.x, b.y)))\n",
    "    \n",
    "    def div(self, a, b):\n",
    "        return(print(Fraction(a.x, a.y) / Fraction(b.x, b.y)))"
   ]
  },
  {
   "cell_type": "code",
   "execution_count": 236,
   "metadata": {},
   "outputs": [
    {
     "name": "stdout",
     "output_type": "stream",
     "text": [
      "1 / 2\n",
      "1 / 3\n",
      "\n",
      "5/6\n",
      "1/6\n",
      "1/6\n",
      "3/2\n"
     ]
    }
   ],
   "source": [
    "a = RationalNumber(1, 2)\n",
    "print(a)\n",
    "\n",
    "b = RationalNumber(1, 3)\n",
    "print(b, end=\"\\n\\n\")\n",
    "\n",
    "c = RationalNumber()\n",
    "c.add(a, b)\n",
    "c.sub(a, b)\n",
    "c.mul(a, b)\n",
    "c.div(a, b)"
   ]
  },
  {
   "cell_type": "markdown",
   "metadata": {
    "colab": {},
    "colab_type": "code",
    "id": "CiHuObmJdo0h"
   },
   "source": [
    "# 4. Deck of Cards\n",
    "\n",
    "Create a deck of cards class. \n",
    "\n",
    "Internally, the deck of cards should use another class, a card class. \n",
    "\n",
    "Your requirements are:\n",
    "\n",
    "- The Deck class should have a deal method to deal a single card from the deck\n",
    "- After a card is dealt, it is removed from the deck.\n",
    "    - If no cards remain in the deck and we try to deal, it should raise an exception\n",
    "- There should be a shuffle method which makes sure the deck of cards has all 52 cards and then rearranges them randomly.\n",
    "    - If there are fewer than 52 cards, an exception should be raised\n",
    "- The Card class should have a suit (Hearts, Diamonds, Clubs, Spades) and a value (A,2,3,4,5,6,7,8,9,10,J,Q,K)\n",
    "\n",
    "```\n",
    ">>> c = Card(suit='Hearts', value='K')\n",
    ">>> c\n",
    "\"K of Hearts\"\n",
    ">>> d = Deck()\n",
    ">>> d\n",
    "\"Cards remaining in deck: 52\"\n",
    "\n",
    "# Deck is not shuffled -- deals cards consecutively:\n",
    "\n",
    ">>> d.deal()\n",
    "\"K of Spades\"\n",
    ">>> d.deal()\n",
    "\"Q of Spades\"\n",
    ">>> d.deal()\n",
    "\"J of Spades\"\n",
    ">>> d\n",
    "\"Cards remaining in deck: 49\"\n",
    "\n",
    "# We dealt 3 cards, 49 remain\n",
    "# Can't shuffle deck that's not full:\n",
    "\n",
    ">>> d.shuffle()\n",
    "ValueError: Only full decks can be shuffled\n",
    "\n",
    "# You can shuffle full decks \n",
    ">>> d = Deck()\n",
    ">>> d.shuffle()\n",
    "\n",
    "# Now it deals random cards\n",
    "\n",
    ">>> d.deal()\n",
    "\"2 of Hearts\"\n",
    "\n",
    "```"
   ]
  },
  {
   "cell_type": "code",
   "execution_count": 123,
   "metadata": {},
   "outputs": [],
   "source": [
    "# imported code from personal project. I was a bit lazy :D"
   ]
  },
  {
   "cell_type": "code",
   "execution_count": 99,
   "metadata": {},
   "outputs": [],
   "source": [
    "import random\n",
    "suits = (\"Hearts\", \"Diamonds\", \"Spades\", \"Clubs\")\n",
    "ranks = (\"Two\", \"Three\", \"Four\", \"Five\", \"Six\", \"Seven\", \"Eight\", \"Nine\", \"Ten\", \"Jack\", \"Queen\", \"King\", \"Ace\")"
   ]
  },
  {
   "cell_type": "code",
   "execution_count": 97,
   "metadata": {},
   "outputs": [],
   "source": [
    "class Card:\n",
    "    def __init__(self, suit, rank):\n",
    "        self.suit = suit\n",
    "        self.rank = rank\n",
    "        \n",
    "    def __str__(self):\n",
    "        return self.rank + \" of \" + self.suit"
   ]
  },
  {
   "cell_type": "code",
   "execution_count": 240,
   "metadata": {
    "colab": {},
    "colab_type": "code",
    "id": "tnfODNsiHMya"
   },
   "outputs": [],
   "source": [
    "class Deck:\n",
    "    \n",
    "    def __init__(self):\n",
    "        \n",
    "        self.all_cards = []\n",
    "        \n",
    "        for suit in suits:\n",
    "            \n",
    "            for rank in ranks:\n",
    "                \n",
    "                card = Card(suit, rank)\n",
    "                self.all_cards.append(card)\n",
    "                \n",
    "    def shuffle(self):\n",
    "        if len(self.all_cards) == 52:\n",
    "            random.shuffle(self.all_cards)\n",
    "            print(\"Deck has been shuffled!\")\n",
    "        else:\n",
    "            return \"Error! Can only shuffle a full deck!\"\n",
    "        \n",
    "    def deal(self):\n",
    "        \n",
    "        if len(self.all_cards):\n",
    "            return print(self.all_cards.pop())\n",
    "        else:\n",
    "            return \"All out of cards!\"\n"
   ]
  },
  {
   "cell_type": "code",
   "execution_count": 241,
   "metadata": {},
   "outputs": [],
   "source": [
    "d = Deck()"
   ]
  },
  {
   "cell_type": "code",
   "execution_count": 243,
   "metadata": {},
   "outputs": [
    {
     "name": "stdout",
     "output_type": "stream",
     "text": [
      "Three of Hearts\n"
     ]
    }
   ],
   "source": [
    "d.deal()"
   ]
  },
  {
   "cell_type": "code",
   "execution_count": 244,
   "metadata": {},
   "outputs": [
    {
     "data": {
      "text/plain": [
       "'Error! Can only shuffle a full deck!'"
      ]
     },
     "execution_count": 244,
     "metadata": {},
     "output_type": "execute_result"
    }
   ],
   "source": [
    "d.shuffle()"
   ]
  }
 ],
 "metadata": {
  "colab": {
   "collapsed_sections": [],
   "name": "Workshop: Python Types and Classes.ipynb",
   "provenance": []
  },
  "kernelspec": {
   "display_name": "Python 3",
   "language": "python",
   "name": "python3"
  },
  "language_info": {
   "codemirror_mode": {
    "name": "ipython",
    "version": 3
   },
   "file_extension": ".py",
   "mimetype": "text/x-python",
   "name": "python",
   "nbconvert_exporter": "python",
   "pygments_lexer": "ipython3",
   "version": "3.7.6"
  }
 },
 "nbformat": 4,
 "nbformat_minor": 1
}
